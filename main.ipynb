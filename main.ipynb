{
 "cells": [
  {
   "cell_type": "code",
   "execution_count": null,
   "id": "initial_id",
   "metadata": {
    "collapsed": true
   },
   "outputs": [],
   "source": ""
  },
  {
   "metadata": {},
   "cell_type": "markdown",
   "source": [
    "# ST2MLE : Machine Learning for IT Engineers Project\n",
    "## Machine Learning Project – Numerical and Textual Data (French Context)\n",
    "### Context\n",
    "As part of this project, students will work on mixed data (numerical and textual) collected from French websites.\n",
    "The objective is to carry out a comprehensive analysis, from data collection to modeling\n",
    "and interpretation, with a focus on a French economic, social, or public context.\n",
    "\n",
    "### Learning Objectives\n",
    "- Master the full lifecycle of a data project (collection, cleaning, preprocessing, modeling, evaluation).\n",
    "- Apply techniques for text processing and numerical data analysis.\n",
    "- Explore various text vectorization techniques (BoW, TF-IDF, Doc2Vec, BERT).\n",
    "- Conduct analyses and provide recommendations based on real French data.\n",
    "\n",
    "### Project Steps\n",
    "1. Define a topic, the needs and identify relevant French sources.\n",
    "2. Collect data (web scraping, APIs...).\n",
    "3. Clean and preprocess both numerical and textual data.\n",
    "4. Annotate (label) data. Some websites already include categories or tags — these can be scraped alongside the text and used as labels. Otherwise, label data manually.\n",
    "5. Perform exploratory analysis and visualizations (distributions, word clouds, correlations...) to check for outliers, class imbalance, etc.\n",
    "6. Apply under-sampling or oversampling (if needed), PCA for feature extraction (if needed).\n",
    "7. Apply predictive models:\n",
    "  - **Numerical data**: Decision Trees, Random Forest, Boosting.\n",
    "  - **Textual data**: Naive Bayes, Logistic Regression after vectorization.\n",
    "8. Compare text vectorization methods: BoW, TF-IDF, Doc2Vec, BERT.\n",
    "9. Provide business recommendations and submit a final report.\n",
    "\n",
    "### Technical Constraints\n",
    "- Data must be exclusively from French sources.\n",
    "- Texts must be in French only (use appropriate preprocessing: French lemmatization, French stopwords).\n",
    "- Minimum of 500 data rows.\n",
    "- Implementation in Python using scikit-learn, gensim, transformers, etc.\n",
    "\n",
    "### Evaluation Criteria\n",
    "- Quality and relevance of data collection and labeling (10%)\n",
    "- Quality of data cleaning and preprocessing (10%)\n",
    "- Relevance of visualizations and exploratory analysis (10%)\n",
    "- Implementation of models (30%)\n",
    "- Comparison and discussion of vectorization techniques (10%)\n",
    "- Recommendations and critical thinking (10%)\n",
    "- Quality of the report and code (5%)\n",
    "- Quality of the presentation (5%)\n",
    "- Q&A (10%)"
   ],
   "id": "5f834302eb699914"
  },
  {
   "metadata": {},
   "cell_type": "markdown",
   "source": "",
   "id": "4f05fdfeed84d241"
  }
 ],
 "metadata": {
  "kernelspec": {
   "display_name": "Python 3",
   "language": "python",
   "name": "python3"
  },
  "language_info": {
   "codemirror_mode": {
    "name": "ipython",
    "version": 2
   },
   "file_extension": ".py",
   "mimetype": "text/x-python",
   "name": "python",
   "nbconvert_exporter": "python",
   "pygments_lexer": "ipython2",
   "version": "2.7.6"
  }
 },
 "nbformat": 4,
 "nbformat_minor": 5
}
